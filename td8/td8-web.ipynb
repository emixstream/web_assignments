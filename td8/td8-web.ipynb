{
 "cells": [
  {
   "cell_type": "markdown",
   "metadata": {},
   "source": [
    "# TD8 - web - Emanuele Marnati"
   ]
  },
  {
   "cell_type": "code",
   "execution_count": 157,
   "metadata": {},
   "outputs": [],
   "source": [
    "import numpy as np\n",
    "import sys\n",
    "import pandas"
   ]
  },
  {
   "cell_type": "markdown",
   "metadata": {},
   "source": [
    "## 1. Write the corresponding matrix S, as explained during the class.\n"
   ]
  },
  {
   "cell_type": "code",
   "execution_count": 158,
   "metadata": {},
   "outputs": [],
   "source": [
    "S = [[0,0,0,0,0,0,0,0], \n",
    "    [0,0,1,0,0,0,0,0,],\n",
    "    [0,1,0,0,0,0,0,0],\n",
    "    [0.5,0.5,0,0,0,0,0,0],\n",
    "    [0,0,0,0.5,0,0.5,0,0],\n",
    "    [0,0.5,0,0,0.5,0,0,0],\n",
    "    [0,0.5,0,0,0.5,0,0,0],\n",
    "    [0,0.5,0,0,0.5,0,0,0]]"
   ]
  },
  {
   "cell_type": "code",
   "execution_count": 159,
   "metadata": {},
   "outputs": [],
   "source": [
    "S_corr = [[0.125,0.125,0.125,0.125,0.125,0.125,0.125,0.125], \n",
    "    [0,0,1,0,0,0,0,0,],\n",
    "    [0,1,0,0,0,0,0,0],\n",
    "    [0.5,0.5,0,0,0,0,0,0],\n",
    "    [0,0,0,0.5,0,0.5,0,0],\n",
    "    [0,0.5,0,0,0.5,0,0,0],\n",
    "    [0,0.5,0,0,0.5,0,0,0],\n",
    "    [0,0.5,0,0,0.5,0,0,0]]"
   ]
  },
  {
   "cell_type": "markdown",
   "metadata": {},
   "source": [
    "## 2. Compute, from matrix S, matrix G = delta*S + (1 − delta)E, for delta = 0.85 and a teleportation matrix E, whose rows consist of the vector u = (1/n, . . . , 1/n)."
   ]
  },
  {
   "cell_type": "code",
   "execution_count": 160,
   "metadata": {},
   "outputs": [],
   "source": [
    "E = [[0.125,0.125,0.125,0.125,0.125,0.125,0.125,0.125], \n",
    "    [0.125,0.125,1,0.125,0.125,0.125,0.125,0.125,],\n",
    "    [0.125,1,0.125,0.125,0.125,0.125,0.125,0.125],\n",
    "    [0.125,0.125,0.125,0.125,0.125,0.125,0.125,0.125],\n",
    "    [0.125,0.125,0.125,0.125,0.125,0.125,0.125,0.125],\n",
    "    [0.125,0.125,0.125,0.125,0.125,0.125,0.125,0.125],\n",
    "    [0.125,0.125,0.125,0.125,0.125,0.125,0.125,0.125],\n",
    "    [0.125,0.125,0.125,0.125,0.125,0.125,0.125,0.125]]"
   ]
  },
  {
   "cell_type": "code",
   "execution_count": 161,
   "metadata": {},
   "outputs": [],
   "source": [
    " delta = 0.85 "
   ]
  },
  {
   "cell_type": "code",
   "execution_count": 162,
   "metadata": {},
   "outputs": [
    {
     "data": {
      "text/plain": [
       "0.15000000000000002"
      ]
     },
     "execution_count": 162,
     "metadata": {},
     "output_type": "execute_result"
    }
   ],
   "source": [
    "(1 - delta)"
   ]
  },
  {
   "cell_type": "markdown",
   "metadata": {},
   "source": [
    "### calcolo matrice delta * S"
   ]
  },
  {
   "cell_type": "code",
   "execution_count": 163,
   "metadata": {
    "scrolled": true
   },
   "outputs": [
    {
     "name": "stdout",
     "output_type": "stream",
     "text": [
      "[[0.1062, 0.1062, 0.1062, 0.1062, 0.1062, 0.1062, 0.1062, 0.1062], [0.0, 0.0, 0.85, 0.0, 0.0, 0.0, 0.0, 0.0], [0.0, 0.85, 0.0, 0.0, 0.0, 0.0, 0.0, 0.0], [0.425, 0.425, 0.0, 0.0, 0.0, 0.0, 0.0, 0.0], [0.0, 0.0, 0.0, 0.425, 0.0, 0.425, 0.0, 0.0], [0.0, 0.425, 0.0, 0.0, 0.425, 0.0, 0.0, 0.0], [0.0, 0.425, 0.0, 0.0, 0.425, 0.0, 0.0, 0.0], [0.0, 0.425, 0.0, 0.0, 0.425, 0.0, 0.0, 0.0]]\n"
     ]
    }
   ],
   "source": [
    "\n",
    "for i in range(0,len(S_corr)):\n",
    "    for j in range(len(S_corr[i])):\n",
    "        #print(S[i][j]*delta)\n",
    "        S_corr[i][j] = round(S_corr[i][j]*delta, 4)\n",
    "        deltaS = S_corr\n",
    "print(deltaS)\n",
    "        "
   ]
  },
  {
   "cell_type": "markdown",
   "metadata": {},
   "source": [
    "### calcolo matrice  (1-delta)E"
   ]
  },
  {
   "cell_type": "code",
   "execution_count": 164,
   "metadata": {},
   "outputs": [
    {
     "name": "stdout",
     "output_type": "stream",
     "text": [
      "[[0.0188, 0.0188, 0.0188, 0.0188, 0.0188, 0.0188, 0.0188, 0.0188], [0.0188, 0.0188, 0.15, 0.0188, 0.0188, 0.0188, 0.0188, 0.0188], [0.0188, 0.15, 0.0188, 0.0188, 0.0188, 0.0188, 0.0188, 0.0188], [0.0188, 0.0188, 0.0188, 0.0188, 0.0188, 0.0188, 0.0188, 0.0188], [0.0188, 0.0188, 0.0188, 0.0188, 0.0188, 0.0188, 0.0188, 0.0188], [0.0188, 0.0188, 0.0188, 0.0188, 0.0188, 0.0188, 0.0188, 0.0188], [0.0188, 0.0188, 0.0188, 0.0188, 0.0188, 0.0188, 0.0188, 0.0188], [0.0188, 0.0188, 0.0188, 0.0188, 0.0188, 0.0188, 0.0188, 0.0188]]\n"
     ]
    }
   ],
   "source": [
    "for i in range(0,len(E)):\n",
    "    for j in range(len(E[i])):\n",
    "        #print(S[i][j]*delta)\n",
    "        E[i][j] = round(E[i][j]*(1-delta), 4)\n",
    "        E_corr = E\n",
    "print(E_corr)"
   ]
  },
  {
   "cell_type": "markdown",
   "metadata": {},
   "source": [
    "### calcolo matrice G = deltaS - E_corr"
   ]
  },
  {
   "cell_type": "code",
   "execution_count": 165,
   "metadata": {},
   "outputs": [
    {
     "name": "stdout",
     "output_type": "stream",
     "text": [
      "[[0.0874, 0.0874, 0.0874, 0.0874, 0.0874, 0.0874, 0.0874, 0.0874], [-0.0188, -0.0188, 0.7, -0.0188, -0.0188, -0.0188, -0.0188, -0.0188], [-0.0188, 0.7, -0.0188, -0.0188, -0.0188, -0.0188, -0.0188, -0.0188], [0.4062, 0.4062, -0.0188, -0.0188, -0.0188, -0.0188, -0.0188, -0.0188], [-0.0188, -0.0188, -0.0188, 0.4062, -0.0188, 0.4062, -0.0188, -0.0188], [-0.0188, 0.4062, -0.0188, -0.0188, 0.4062, -0.0188, -0.0188, -0.0188], [-0.0188, 0.4062, -0.0188, -0.0188, 0.4062, -0.0188, -0.0188, -0.0188], [-0.0188, 0.4062, -0.0188, -0.0188, 0.4062, -0.0188, -0.0188, -0.0188]]\n"
     ]
    }
   ],
   "source": [
    "for i in range(0,len(δS)):\n",
    "    for j in range(len(δS[i])):\n",
    "        #print(S[i][j]*δ)\n",
    "        deltaS[i][j] = round(deltaS[i][j]-E_corr[i][j], 4) \n",
    "        G = deltaS\n",
    "print(G)"
   ]
  },
  {
   "cell_type": "markdown",
   "metadata": {},
   "source": [
    "## 3. Compute vector pi-greco, solution of the equation pi-greco = pi-greco*G, using the power method. Carry out the calculations for at least two iterations of the method."
   ]
  },
  {
   "cell_type": "code",
   "execution_count": 166,
   "metadata": {},
   "outputs": [],
   "source": [
    "A = G"
   ]
  },
  {
   "cell_type": "code",
   "execution_count": 167,
   "metadata": {},
   "outputs": [],
   "source": [
    "v = np.array([[1],[0], [0],[0],[0],[0],[0],[0],])"
   ]
  },
  {
   "cell_type": "code",
   "execution_count": 168,
   "metadata": {},
   "outputs": [
    {
     "name": "stdout",
     "output_type": "stream",
     "text": [
      "iteration no. 1\n",
      "[[ 0.0874]\n",
      " [-0.0188]\n",
      " [-0.0188]\n",
      " [ 0.4062]\n",
      " [-0.0188]\n",
      " [-0.0188]\n",
      " [-0.0188]\n",
      " [-0.0188]]\n",
      "0.4062\n",
      "[[ 0.21516494]\n",
      " [-0.04628262]\n",
      " [-0.04628262]\n",
      " [ 1.        ]\n",
      " [-0.04628262]\n",
      " [-0.04628262]\n",
      " [-0.04628262]\n",
      " [-0.04628262]]\n",
      "iteration no. 2\n",
      "[[ 0.08193481]\n",
      " [-0.05089237]\n",
      " [-0.05089237]\n",
      " [ 0.05415057]\n",
      " [ 0.38770547]\n",
      " [-0.05696465]\n",
      " [-0.05696465]\n",
      " [-0.05696465]]\n",
      "0.38770546528803546\n",
      "[[ 0.21133262]\n",
      " [-0.13126554]\n",
      " [-0.13126554]\n",
      " [ 0.13966934]\n",
      " [ 1.        ]\n",
      " [-0.14692764]\n",
      " [-0.14692764]\n",
      " [-0.14692764]]\n"
     ]
    }
   ],
   "source": [
    "for i in range(2):\n",
    "    print('iteration no.', i+1)\n",
    "    temp= np.matmul(A,v)\n",
    "    print(temp)\n",
    "    v = temp/np.max(temp)\n",
    "    print(np.max(temp))\n",
    "    print(v)"
   ]
  },
  {
   "cell_type": "code",
   "execution_count": 169,
   "metadata": {},
   "outputs": [],
   "source": [
    "pi-greco = [[ 0.08193481],\n",
    " [-0.05089237],\n",
    " [-0.05089237],\n",
    " [ 0.05415057],\n",
    " [ 0.38770547],\n",
    " [-0.05696465],\n",
    " [-0.05696465],\n",
    " [-0.05696465]]"
   ]
  },
  {
   "cell_type": "code",
   "execution_count": 170,
   "metadata": {},
   "outputs": [
    {
     "data": {
      "text/plain": [
       "[[0.08193481],\n",
       " [-0.05089237],\n",
       " [-0.05089237],\n",
       " [0.05415057],\n",
       " [0.38770547],\n",
       " [-0.05696465],\n",
       " [-0.05696465],\n",
       " [-0.05696465]]"
      ]
     },
     "execution_count": 170,
     "metadata": {},
     "output_type": "execute_result"
    }
   ],
   "source": [
    "pi-greco"
   ]
  },
  {
   "cell_type": "markdown",
   "metadata": {},
   "source": [
    "##### Thanks for the attention"
   ]
  }
 ],
 "metadata": {
  "kernelspec": {
   "display_name": "Python 3",
   "language": "python",
   "name": "python3"
  },
  "language_info": {
   "codemirror_mode": {
    "name": "ipython",
    "version": 3
   },
   "file_extension": ".py",
   "mimetype": "text/x-python",
   "name": "python",
   "nbconvert_exporter": "python",
   "pygments_lexer": "ipython3",
   "version": "3.8.3"
  }
 },
 "nbformat": 4,
 "nbformat_minor": 4
}
